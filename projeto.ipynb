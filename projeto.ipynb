{
 "cells": [
  {
   "cell_type": "code",
   "execution_count": 66,
   "id": "bb58f15f-19dd-46ee-8d1d-7db425a3bf38",
   "metadata": {},
   "outputs": [],
   "source": [
    "import pandas as pd\n",
    "import os\n",
    "import numpy "
   ]
  },
  {
   "cell_type": "markdown",
   "id": "e3c578fb-62b8-458c-a80e-c2f6734eaf95",
   "metadata": {},
   "source": [
    "## 1. Limpeza de dados\n",
    "\n",
    "##### Inicialmente, os dados estavam organizados por ano e apresentavam colunas extras em algumas linhas, o que exigiu a adição temporária de novas colunas ao arquivo para permitir a leitura correta dos dados. Após essa etapa, as colunas extras foram removidas. Também foi necessário eliminar linhas inconsistentes nos bancos de dados, como a primeira e a última de cada arquivo. Concluído esse tratamento, todos os arquivos foram concatenados em um único arquivo, visando simplificar as análises posteriores."
   ]
  },
  {
   "cell_type": "code",
   "execution_count": 67,
   "id": "014c100a-56a3-4635-bdcb-2cc32921eb1e",
   "metadata": {},
   "outputs": [],
   "source": [
    "df24 = pd.read_csv('consultaDespesa_Prefeitura_Teixeira_2024.csv', sep=';')\n",
    "df24 = df24.drop(df24.columns[[28, 29, 30, 31]], axis=1)\n",
    "df24 = df24.drop([0, 8682], axis=0)\n",
    "\n",
    "df23 = pd.read_csv('consultaDespesa_Prefeitura _Teixeira_2023.csv', sep=';')\n",
    "df23 = df23.drop(df23.columns[[28,29, 30, 31,32,33,34]], axis=1)\n",
    "df23 = df23.drop([0, 9945], axis=0)\n",
    "\n",
    "df22 = pd.read_csv('consultaDespesa_Prefeitura _Teixeira_2022.csv', sep=';', )\n",
    "df22 = df22.drop(df22.columns[[28,29, 30, 31]], axis=1)\n",
    "df22 = df22.drop([0, 13102], axis=0)\n",
    "\n",
    "df21 = pd.read_csv('consultaDespesa_Prefeitura _Teixeira_2021.csv', sep=';')\n",
    "df21 = df21.drop(df21.columns[[28,29, 30, 31]], axis=1)\n",
    "df21 = df21.drop([0, 10744], axis=0)\n",
    "\n",
    "df20 = pd.read_csv('consultaDespesa_Prefeitura _Teixeira_2020.csv', sep=';')\n",
    "df20 = df20.drop(df20.columns[[28,29, 30, 31]], axis=1)\n",
    "df20 = df20.drop([0, 6378], axis=0)\n",
    "\n",
    "df19 = pd.read_csv('consultaDespesa_Prefeitura _Teixeira_2019.csv', sep=';')\n",
    "df19 = df19.drop(df19.columns[[28,29, 30, 31]], axis=1)\n",
    "df19 = df19.drop([0, 5719], axis=0)\n",
    "\n",
    "df18= pd.read_csv('consultaDespesa_Prefeitura _Teixeira_2018.csv', sep=';', )\n",
    "df18 = df18.drop(df18.columns[[28,29, 30, 31]], axis=1)\n",
    "df18 = df18.drop([0, 5297], axis=0)\n",
    "\n",
    "df17= pd.read_csv('consultaDespesa_Prefeitura _Teixeira_2017.csv', sep=';')\n",
    "df17 = df17.drop(df17.columns[[28,29, 30, 31]], axis=1)\n",
    "df17 = df17.drop([0, 6082], axis=0)\n",
    "\n",
    "df16= pd.read_csv('consultaDespesa_Prefeitura _Teixeira_2016.csv', sep=';')\n",
    "df16 = df16.drop(df16.columns[[28,29, 30, 31]], axis=1)\n",
    "df16 = df16.drop([0, 8391], axis=0)\n",
    "\n",
    "df15= pd.read_csv('consultaDespesa_Prefeitura _Teixeira_2015.csv', sep=';')\n",
    "df15 = df15.drop(df15.columns[[28,29, 30, 31,32]], axis=1)\n",
    "df15 = df15.drop([0, 6977], axis=0)\n",
    "\n",
    "df14= pd.read_csv('consultaDespesa_Prefeitura _Teixeira_2014.csv', sep=';')\n",
    "df14 = df14.drop(df14.columns[[28,29, 30, 31,32]], axis=1)\n",
    "df14 = df14.drop([0, 5589], axis=0)\n",
    "\n",
    "df = pd.concat([df24, df23, df22, df21, df20 ,df19 ,df18 ,df17 ,df16, df15,df14])"
   ]
  },
  {
   "cell_type": "code",
   "execution_count": null,
   "id": "d6464a38-d7fa-4134-91b2-f111f5677fb1",
   "metadata": {},
   "outputs": [],
   "source": []
  },
  {
   "cell_type": "code",
   "execution_count": null,
   "id": "b96f3e9f-b28f-4e83-be80-07d51f81ab5f",
   "metadata": {},
   "outputs": [],
   "source": []
  },
  {
   "cell_type": "code",
   "execution_count": 73,
   "id": "c5ad1ff8-bb82-4d3b-9429-695a834f952a",
   "metadata": {},
   "outputs": [],
   "source": [
    "df = df.drop([\"CPF/CNPJ\", \"Órgão\", \"Unnamed: 0\", \" Número\", \n",
    "         \"Natureza\", \"Nº Licitação\", \"Valor Anulado\", \"Data de Liquidação\", \n",
    "         \"Modalidade\", \"Subfunção\", \"Categoria Econômica\", \"Aplicação\", \"Elemento\"], axis = 1)"
   ]
  },
  {
   "cell_type": "code",
   "execution_count": 76,
   "id": "24c3db40-ac70-4dcc-a09f-edf3fc8f81bd",
   "metadata": {},
   "outputs": [
    {
     "data": {
      "text/plain": [
       "Data                      14\n",
       "Nome                      14\n",
       "Licitação                 14\n",
       "Histórico                 14\n",
       "Fonte Recurso            144\n",
       "Unid. Orc                150\n",
       "Função                   150\n",
       "Programa                 150\n",
       "Ação                     150\n",
       "Valor Fixado             152\n",
       "Valor Empenhado          281\n",
       "Valor Liquidado          280\n",
       "Valor Pago               286\n",
       " Valor Saldo             462\n",
       "Data de Pagamento       4860\n",
       " Data de Liquidação    10748\n",
       "dtype: int64"
      ]
     },
     "execution_count": 76,
     "metadata": {},
     "output_type": "execute_result"
    }
   ],
   "source": [
    "df.isnull().sum()"
   ]
  },
  {
   "cell_type": "code",
   "execution_count": null,
   "id": "8c98cd74-848d-4419-8b70-f8143bb8c5d3",
   "metadata": {},
   "outputs": [],
   "source": []
  },
  {
   "cell_type": "code",
   "execution_count": 61,
   "id": "81391249-f607-486e-ac9b-dbd98ef9a5f8",
   "metadata": {},
   "outputs": [],
   "source": []
  },
  {
   "cell_type": "code",
   "execution_count": null,
   "id": "8819c65b-09bd-4c35-ad10-abbdc2d6e841",
   "metadata": {},
   "outputs": [],
   "source": []
  }
 ],
 "metadata": {
  "kernelspec": {
   "display_name": "Python 3 (ipykernel)",
   "language": "python",
   "name": "python3"
  },
  "language_info": {
   "codemirror_mode": {
    "name": "ipython",
    "version": 3
   },
   "file_extension": ".py",
   "mimetype": "text/x-python",
   "name": "python",
   "nbconvert_exporter": "python",
   "pygments_lexer": "ipython3",
   "version": "3.11.5"
  }
 },
 "nbformat": 4,
 "nbformat_minor": 5
}
