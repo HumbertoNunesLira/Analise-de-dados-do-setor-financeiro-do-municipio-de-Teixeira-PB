{
 "cells": [
  {
   "cell_type": "code",
   "execution_count": 3,
   "id": "bb58f15f-19dd-46ee-8d1d-7db425a3bf38",
   "metadata": {},
   "outputs": [],
   "source": [
    "import pandas as pd\n",
    "import os"
   ]
  },
  {
   "cell_type": "code",
   "execution_count": 14,
   "id": "c8b34358-f21f-4fd5-97fa-3a0fa5c65d25",
   "metadata": {},
   "outputs": [
    {
     "ename": "ParserError",
     "evalue": "Error tokenizing data. C error: Expected 27 fields in line 2, saw 28\n",
     "output_type": "error",
     "traceback": [
      "\u001b[1;31m---------------------------------------------------------------------------\u001b[0m",
      "\u001b[1;31mParserError\u001b[0m                               Traceback (most recent call last)",
      "Cell \u001b[1;32mIn[14], line 5\u001b[0m\n\u001b[0;32m      1\u001b[0m colunas \u001b[38;5;241m=\u001b[39m [\u001b[38;5;124m'\u001b[39m\u001b[38;5;124mNumero\u001b[39m\u001b[38;5;124m'\u001b[39m, \u001b[38;5;124m'\u001b[39m\u001b[38;5;124mData\u001b[39m\u001b[38;5;124m'\u001b[39m, \u001b[38;5;124m'\u001b[39m\u001b[38;5;124mNome\u001b[39m\u001b[38;5;124m'\u001b[39m, \u001b[38;5;124m'\u001b[39m\u001b[38;5;124mCPF_CNPJ\u001b[39m\u001b[38;5;124m'\u001b[39m, \u001b[38;5;124m'\u001b[39m\u001b[38;5;124mLicitação\u001b[39m\u001b[38;5;124m'\u001b[39m, \u001b[38;5;124m'\u001b[39m\u001b[38;5;124mNº Licitação\u001b[39m\u001b[38;5;124m'\u001b[39m, \u001b[38;5;124m'\u001b[39m\u001b[38;5;124mHistórico\u001b[39m\u001b[38;5;124m'\u001b[39m, \u001b[38;5;124m'\u001b[39m\u001b[38;5;124mFonte Recurso\u001b[39m\u001b[38;5;124m'\u001b[39m, \n\u001b[0;32m      2\u001b[0m            \u001b[38;5;124m'\u001b[39m\u001b[38;5;124mModalidade\u001b[39m\u001b[38;5;124m'\u001b[39m, \u001b[38;5;124m'\u001b[39m\u001b[38;5;124mÓrgão\u001b[39m\u001b[38;5;124m'\u001b[39m, \u001b[38;5;124m'\u001b[39m\u001b[38;5;124mUnid.Orc\u001b[39m\u001b[38;5;124m'\u001b[39m, \u001b[38;5;124m'\u001b[39m\u001b[38;5;124mFunção\u001b[39m\u001b[38;5;124m'\u001b[39m, \u001b[38;5;124m'\u001b[39m\u001b[38;5;124mSubfunção\u001b[39m\u001b[38;5;124m'\u001b[39m, \u001b[38;5;124m'\u001b[39m\u001b[38;5;124mPrograma\u001b[39m\u001b[38;5;124m'\u001b[39m, \u001b[38;5;124m'\u001b[39m\u001b[38;5;124mAção\u001b[39m\u001b[38;5;124m'\u001b[39m, \u001b[38;5;124m'\u001b[39m\u001b[38;5;124mCategoria Econômica\u001b[39m\u001b[38;5;124m'\u001b[39m, \n\u001b[0;32m      3\u001b[0m            \u001b[38;5;124m'\u001b[39m\u001b[38;5;124mNatureza\u001b[39m\u001b[38;5;124m'\u001b[39m, \u001b[38;5;124m'\u001b[39m\u001b[38;5;124mAplicação\u001b[39m\u001b[38;5;124m'\u001b[39m, \u001b[38;5;124m'\u001b[39m\u001b[38;5;124mElemento\u001b[39m\u001b[38;5;124m'\u001b[39m, \u001b[38;5;124m'\u001b[39m\u001b[38;5;124mValor Fixado\u001b[39m\u001b[38;5;124m'\u001b[39m, \u001b[38;5;124m'\u001b[39m\u001b[38;5;124mValor Empenhado\u001b[39m\u001b[38;5;124m'\u001b[39m, \u001b[38;5;124m'\u001b[39m\u001b[38;5;124mValor Liquidado\u001b[39m\u001b[38;5;124m'\u001b[39m, \n\u001b[0;32m      4\u001b[0m            \u001b[38;5;124m'\u001b[39m\u001b[38;5;124mValor Pago\u001b[39m\u001b[38;5;124m'\u001b[39m, \u001b[38;5;124m'\u001b[39m\u001b[38;5;124mValor Anulado\u001b[39m\u001b[38;5;124m'\u001b[39m, \u001b[38;5;124m'\u001b[39m\u001b[38;5;124mValor Saldo\u001b[39m\u001b[38;5;124m'\u001b[39m, \u001b[38;5;124m'\u001b[39m\u001b[38;5;124mData de Pagamento\u001b[39m\u001b[38;5;124m'\u001b[39m, \u001b[38;5;124m'\u001b[39m\u001b[38;5;124mData de Liquidação\u001b[39m\u001b[38;5;124m'\u001b[39m]\n\u001b[1;32m----> 5\u001b[0m df \u001b[38;5;241m=\u001b[39m \u001b[43mpd\u001b[49m\u001b[38;5;241;43m.\u001b[39;49m\u001b[43mread_csv\u001b[49m\u001b[43m(\u001b[49m\u001b[38;5;124;43m'\u001b[39;49m\u001b[38;5;124;43mconsultaDespesa_Prefeitura_Teixeira_2024.csv\u001b[39;49m\u001b[38;5;124;43m'\u001b[39;49m\u001b[43m,\u001b[49m\u001b[43m \u001b[49m\u001b[43msep\u001b[49m\u001b[38;5;241;43m=\u001b[39;49m\u001b[38;5;124;43m'\u001b[39;49m\u001b[38;5;124;43m;\u001b[39;49m\u001b[38;5;124;43m'\u001b[39;49m\u001b[43m,\u001b[49m\u001b[43m \u001b[49m\u001b[43mencoding\u001b[49m\u001b[38;5;241;43m=\u001b[39;49m\u001b[38;5;124;43m'\u001b[39;49m\u001b[38;5;124;43mlatin1\u001b[39;49m\u001b[38;5;124;43m'\u001b[39;49m\u001b[43m,\u001b[49m\u001b[43m \u001b[49m\u001b[43mnames\u001b[49m\u001b[38;5;241;43m=\u001b[39;49m\u001b[43mcolunas\u001b[49m\u001b[43m)\u001b[49m\n\u001b[0;32m      7\u001b[0m \u001b[38;5;28mprint\u001b[39m(df\u001b[38;5;241m.\u001b[39mhead())\n",
      "File \u001b[1;32m~\\anaconda3\\Lib\\site-packages\\pandas\\io\\parsers\\readers.py:912\u001b[0m, in \u001b[0;36mread_csv\u001b[1;34m(filepath_or_buffer, sep, delimiter, header, names, index_col, usecols, dtype, engine, converters, true_values, false_values, skipinitialspace, skiprows, skipfooter, nrows, na_values, keep_default_na, na_filter, verbose, skip_blank_lines, parse_dates, infer_datetime_format, keep_date_col, date_parser, date_format, dayfirst, cache_dates, iterator, chunksize, compression, thousands, decimal, lineterminator, quotechar, quoting, doublequote, escapechar, comment, encoding, encoding_errors, dialect, on_bad_lines, delim_whitespace, low_memory, memory_map, float_precision, storage_options, dtype_backend)\u001b[0m\n\u001b[0;32m    899\u001b[0m kwds_defaults \u001b[38;5;241m=\u001b[39m _refine_defaults_read(\n\u001b[0;32m    900\u001b[0m     dialect,\n\u001b[0;32m    901\u001b[0m     delimiter,\n\u001b[1;32m   (...)\u001b[0m\n\u001b[0;32m    908\u001b[0m     dtype_backend\u001b[38;5;241m=\u001b[39mdtype_backend,\n\u001b[0;32m    909\u001b[0m )\n\u001b[0;32m    910\u001b[0m kwds\u001b[38;5;241m.\u001b[39mupdate(kwds_defaults)\n\u001b[1;32m--> 912\u001b[0m \u001b[38;5;28;01mreturn\u001b[39;00m \u001b[43m_read\u001b[49m\u001b[43m(\u001b[49m\u001b[43mfilepath_or_buffer\u001b[49m\u001b[43m,\u001b[49m\u001b[43m \u001b[49m\u001b[43mkwds\u001b[49m\u001b[43m)\u001b[49m\n",
      "File \u001b[1;32m~\\anaconda3\\Lib\\site-packages\\pandas\\io\\parsers\\readers.py:583\u001b[0m, in \u001b[0;36m_read\u001b[1;34m(filepath_or_buffer, kwds)\u001b[0m\n\u001b[0;32m    580\u001b[0m     \u001b[38;5;28;01mreturn\u001b[39;00m parser\n\u001b[0;32m    582\u001b[0m \u001b[38;5;28;01mwith\u001b[39;00m parser:\n\u001b[1;32m--> 583\u001b[0m     \u001b[38;5;28;01mreturn\u001b[39;00m \u001b[43mparser\u001b[49m\u001b[38;5;241;43m.\u001b[39;49m\u001b[43mread\u001b[49m\u001b[43m(\u001b[49m\u001b[43mnrows\u001b[49m\u001b[43m)\u001b[49m\n",
      "File \u001b[1;32m~\\anaconda3\\Lib\\site-packages\\pandas\\io\\parsers\\readers.py:1704\u001b[0m, in \u001b[0;36mTextFileReader.read\u001b[1;34m(self, nrows)\u001b[0m\n\u001b[0;32m   1697\u001b[0m nrows \u001b[38;5;241m=\u001b[39m validate_integer(\u001b[38;5;124m\"\u001b[39m\u001b[38;5;124mnrows\u001b[39m\u001b[38;5;124m\"\u001b[39m, nrows)\n\u001b[0;32m   1698\u001b[0m \u001b[38;5;28;01mtry\u001b[39;00m:\n\u001b[0;32m   1699\u001b[0m     \u001b[38;5;66;03m# error: \"ParserBase\" has no attribute \"read\"\u001b[39;00m\n\u001b[0;32m   1700\u001b[0m     (\n\u001b[0;32m   1701\u001b[0m         index,\n\u001b[0;32m   1702\u001b[0m         columns,\n\u001b[0;32m   1703\u001b[0m         col_dict,\n\u001b[1;32m-> 1704\u001b[0m     ) \u001b[38;5;241m=\u001b[39m \u001b[38;5;28;43mself\u001b[39;49m\u001b[38;5;241;43m.\u001b[39;49m\u001b[43m_engine\u001b[49m\u001b[38;5;241;43m.\u001b[39;49m\u001b[43mread\u001b[49m\u001b[43m(\u001b[49m\u001b[43m  \u001b[49m\u001b[38;5;66;43;03m# type: ignore[attr-defined]\u001b[39;49;00m\n\u001b[0;32m   1705\u001b[0m \u001b[43m        \u001b[49m\u001b[43mnrows\u001b[49m\n\u001b[0;32m   1706\u001b[0m \u001b[43m    \u001b[49m\u001b[43m)\u001b[49m\n\u001b[0;32m   1707\u001b[0m \u001b[38;5;28;01mexcept\u001b[39;00m \u001b[38;5;167;01mException\u001b[39;00m:\n\u001b[0;32m   1708\u001b[0m     \u001b[38;5;28mself\u001b[39m\u001b[38;5;241m.\u001b[39mclose()\n",
      "File \u001b[1;32m~\\anaconda3\\Lib\\site-packages\\pandas\\io\\parsers\\c_parser_wrapper.py:234\u001b[0m, in \u001b[0;36mCParserWrapper.read\u001b[1;34m(self, nrows)\u001b[0m\n\u001b[0;32m    232\u001b[0m \u001b[38;5;28;01mtry\u001b[39;00m:\n\u001b[0;32m    233\u001b[0m     \u001b[38;5;28;01mif\u001b[39;00m \u001b[38;5;28mself\u001b[39m\u001b[38;5;241m.\u001b[39mlow_memory:\n\u001b[1;32m--> 234\u001b[0m         chunks \u001b[38;5;241m=\u001b[39m \u001b[38;5;28;43mself\u001b[39;49m\u001b[38;5;241;43m.\u001b[39;49m\u001b[43m_reader\u001b[49m\u001b[38;5;241;43m.\u001b[39;49m\u001b[43mread_low_memory\u001b[49m\u001b[43m(\u001b[49m\u001b[43mnrows\u001b[49m\u001b[43m)\u001b[49m\n\u001b[0;32m    235\u001b[0m         \u001b[38;5;66;03m# destructive to chunks\u001b[39;00m\n\u001b[0;32m    236\u001b[0m         data \u001b[38;5;241m=\u001b[39m _concatenate_chunks(chunks)\n",
      "File \u001b[1;32m~\\anaconda3\\Lib\\site-packages\\pandas\\_libs\\parsers.pyx:814\u001b[0m, in \u001b[0;36mpandas._libs.parsers.TextReader.read_low_memory\u001b[1;34m()\u001b[0m\n",
      "File \u001b[1;32m~\\anaconda3\\Lib\\site-packages\\pandas\\_libs\\parsers.pyx:875\u001b[0m, in \u001b[0;36mpandas._libs.parsers.TextReader._read_rows\u001b[1;34m()\u001b[0m\n",
      "File \u001b[1;32m~\\anaconda3\\Lib\\site-packages\\pandas\\_libs\\parsers.pyx:850\u001b[0m, in \u001b[0;36mpandas._libs.parsers.TextReader._tokenize_rows\u001b[1;34m()\u001b[0m\n",
      "File \u001b[1;32m~\\anaconda3\\Lib\\site-packages\\pandas\\_libs\\parsers.pyx:861\u001b[0m, in \u001b[0;36mpandas._libs.parsers.TextReader._check_tokenize_status\u001b[1;34m()\u001b[0m\n",
      "File \u001b[1;32m~\\anaconda3\\Lib\\site-packages\\pandas\\_libs\\parsers.pyx:2029\u001b[0m, in \u001b[0;36mpandas._libs.parsers.raise_parser_error\u001b[1;34m()\u001b[0m\n",
      "\u001b[1;31mParserError\u001b[0m: Error tokenizing data. C error: Expected 27 fields in line 2, saw 28\n"
     ]
    }
   ],
   "source": [
    "colunas = ['Numero', 'Data', 'Nome', 'CPF_CNPJ', 'Licitação', 'Nº Licitação', 'Histórico', 'Fonte Recurso', \n",
    "           'Modalidade', 'Órgão', 'Unid.Orc', 'Função', 'Subfunção', 'Programa', 'Ação', 'Categoria Econômica', \n",
    "           'Natureza', 'Aplicação', 'Elemento', 'Valor Fixado', 'Valor Empenhado', 'Valor Liquidado', \n",
    "           'Valor Pago', 'Valor Anulado', 'Valor Saldo', 'Data de Pagamento', 'Data de Liquidação']\n",
    "df = pd.read_csv('consultaDespesa_Prefeitura_Teixeira_2024.csv', sep=';', encoding='latin1', names=colunas)\n",
    "\n",
    "print(df.head())"
   ]
  },
  {
   "cell_type": "code",
   "execution_count": null,
   "id": "48b16b41-7910-4964-95b5-5ff5f010b82a",
   "metadata": {},
   "outputs": [],
   "source": []
  },
  {
   "cell_type": "code",
   "execution_count": 9,
   "id": "5c9b3cf3-6f4f-423e-a4b1-b562e44df6d5",
   "metadata": {},
   "outputs": [
    {
     "name": "stdout",
     "output_type": "stream",
     "text": [
      "Linha 1: ; Prefeitura Municipal de Teixeira;Teixeira;PB;2024;filtros: 01/01/2024 e 31/12/2024; Data/hora Consulta: 22/11/2024 02:21:33\n",
      "Linha 2: ; NÃºmero;Data;Nome;CPF/CNPJ;LicitaÃ§Ã£o;NÂº LicitaÃ§Ã£o;HistÃ³rico;Fonte Recurso;Modalidade;ÃrgÃ£o;Unid. Orc;FunÃ§Ã£o;SubfunÃ§Ã£o;Programa;AÃ§Ã£o;Categoria EconÃ´mica;Natureza;AplicaÃ§Ã£o;Elemento;Valor Fixado;Valor Empenhado;Valor Liquidado;Valor Pago;Valor Anulado; Valor Saldo;Data de Pagamento; Data de LiquidaÃ§Ã£o\n",
      "Linha 3: ; InstituiÃ§Ã£o: Prefeitura Municipal de Teixeira;\n",
      "Linha 4: DL;4;02/01/2024;BANCO DO BRASIL SA;***.000.138-**;NÃO;;VALO QUE SE EMPENHA PARA ATENDER AO PAGAMENTO, REFERENTE TARIFA BANCARIA DEBITADA NA CONTA 24099-0 NO DIA 02/01/2024, CONFORME COMPROVANTE EM ANEXO.   ;16600000 - TransferÃªncia de Recursos do Fundo Nacional de AssistÃªncia Social - FNAS;0 - OrdinÃ¡rio;2 - Prefeitura Municipal de Teixeira;2120 - Fundo Municipal de AÃ§Ã£o e PromoÃ§Ã£o Social;8 - AssistÃªncia Social;244 - AssistÃªncia ComunitÃ¡ria;1002 - PromoÃ§Ã£o social Ã  famÃ­lia, Ã  crianÃ§a, aos adolescentes e Ã  populaÃ§Ã£o idosa;2041 - ManutenÃ§Ã£o das Atividades do Bloco de Financiamento da GestÃ£o do Programa Bolsa FamÃ­lia e Cadastro Ãnico Â IGDBF;3 - Despesas Correntes;3 - Outras Despesas Correntes;90 - AplicaÃ§Ãµes Diretas;39 - Outros ServiÃ§os De Terceiros - Pessoa JurÃ­dica;8.000,00;5,70;5,70;5,70;;0,00;02/01/2024;02/01/2024;\n",
      "Linha 5: DL;7;02/01/2024;EMERSON LIMA DOS SANTOS;***.124.408-**;NÃO;;VALOR QUE SE EMPENHA PARA ATENDER AO PAGAMENTO DE AJUDA FINANCCEIRA PARA COMPRA DE GENEROS ALIMENTICIOS, DESTINADA A EMERSON LIMA DOS SANTOS, QUE ENCONTRA-SE EM SITUAÃÃO DE VULNERABILIDADE SOCIAL   ;15001000 - Recursos Livres (OrdinÃ¡rio);0 - OrdinÃ¡rio;2 - Prefeitura Municipal de Teixeira;2120 - Fundo Municipal de AÃ§Ã£o e PromoÃ§Ã£o Social;8 - AssistÃªncia Social;244 - AssistÃªncia ComunitÃ¡ria;1002 - PromoÃ§Ã£o social Ã  famÃ­lia, Ã  crianÃ§a, aos adolescentes e Ã  populaÃ§Ã£o idosa;2047 - ManutenÃ§Ã£o de  BenefÃ­cios  Eventuais;3 - Despesas Correntes;3 - Outras Despesas Correntes;90 - AplicaÃ§Ãµes Diretas;48 - Outros AuxÃ­lios Financeiros A Pessoas FÃ­sicas;140.000,00;150,00;150,00;150,00;;0,00;02/01/2024;02/01/2024;\n",
      "Linha 6: DL;8;02/01/2024;JOSE ALEXANDRE DA SILVA;***.263.499-**;NÃO;;VALOR QUE SE EMPENHA PARA ATENDER AO PAGAMENTO DE AJUDA FINANCCEIRA PARA COMPRA DE GENEROS ALIMENTICIOS, DESTINADA A JOSE ALEXANDRE DA SILVA, QUE ENCONTRA-SE EM SITUAÃÃO DE VULNERABILIDADE SOCIAL   ;15001000 - Recursos Livres (OrdinÃ¡rio);0 - OrdinÃ¡rio;2 - Prefeitura Municipal de Teixeira;2120 - Fundo Municipal de AÃ§Ã£o e PromoÃ§Ã£o Social;8 - AssistÃªncia Social;244 - AssistÃªncia ComunitÃ¡ria;1002 - PromoÃ§Ã£o social Ã  famÃ­lia, Ã  crianÃ§a, aos adolescentes e Ã  populaÃ§Ã£o idosa;2047 - ManutenÃ§Ã£o de  BenefÃ­cios  Eventuais;3 - Despesas Correntes;3 - Outras Despesas Correntes;90 - AplicaÃ§Ãµes Diretas;48 - Outros AuxÃ­lios Financeiros A Pessoas FÃ­sicas;140.000,00;300,00;300,00;300,00;;0,00;02/01/2024;02/01/2024;\n",
      "Linha 7: DL;18;04/01/2024;JAIME GOMES MARTINS;***.386.453-**;NÃO;;VALOR QUE SE EMPENHA PARA ATENDER AO PAGAMENTO DE ALUGUEL DE UM IMOVEL PERTENCENTE A JAIME GOMES MARTINS, ALUGADO A BENEFICIARIA LUARIA GOMES FERREIRA, QUE ENCONTRA-SE EM SITUAÃÃO DE VUNERABILIDADE SOCIAL.   ;15001000 - Recursos Livres (OrdinÃ¡rio);0 - OrdinÃ¡rio;2 - Prefeitura Municipal de Teixeira;2120 - Fundo Municipal de AÃ§Ã£o e PromoÃ§Ã£o Social;8 - AssistÃªncia Social;244 - AssistÃªncia ComunitÃ¡ria;1002 - PromoÃ§Ã£o social Ã  famÃ­lia, Ã  crianÃ§a, aos adolescentes e Ã  populaÃ§Ã£o idosa;2047 - ManutenÃ§Ã£o de  BenefÃ­cios  Eventuais;3 - Despesas Correntes;3 - Outras Despesas Correntes;90 - AplicaÃ§Ãµes Diretas;32 - Material, Bem Ou ServiÃ§o Para DistribuiÃ§Ã£o Gratuita;80.000,00;150,00;150,00;150,00;;0,00;09/01/2024;09/01/2024;\n",
      "Linha 8: DL;38;09/01/2024;ADRINA MARIA CONCEICAO SILVA FREITAS;***.893.474-**;NÃO;;VALOR QUE SE EMPENHA PARA ATENDER AO PAGAMENTO PELOS SERVIÃOS TECNICOS PRESTADOS COM COM DIAGNOSTICO SOCIOTERRITORIAL DOS SERVIÃOS SOCIOASSISTENCIASIS PARA VISITAS DOS INTEGRANTES DO CADUNICO EDO PBF PARA INTEGRAR PLANEJAMENTO DAS AÃÃES DO PROCAD, DURANTE O SEGUNDO SEMESTRE DE 2023. PORTARIA 844/2023.  ;16600000 - TransferÃªncia de Recursos do Fundo Nacional de AssistÃªncia Social - FNAS;0 - OrdinÃ¡rio;2 - Prefeitura Municipal de Teixeira;2120 - Fundo Municipal de AÃ§Ã£o e PromoÃ§Ã£o Social;8 - AssistÃªncia Social;244 - AssistÃªncia ComunitÃ¡ria;1002 - PromoÃ§Ã£o social Ã  famÃ­lia, Ã  crianÃ§a, aos adolescentes e Ã  populaÃ§Ã£o idosa;2041 - ManutenÃ§Ã£o das Atividades do Bloco de Financiamento da GestÃ£o do Programa Bolsa FamÃ­lia e Cadastro Ãnico Â IGDBF;3 - Despesas Correntes;3 - Outras Despesas Correntes;90 - AplicaÃ§Ãµes Diretas;92 - Despesas De ExercÃ­cios Anteriores;2.000,00;3.500,00;3.500,00;3.500,00;;0,00;09/01/2024;09/01/2024;\n",
      "Linha 9: DL;39;09/01/2024;MANOEL MARQUES PEREIRA;***.532.491-**;NÃO;;VALOR QUE SE EMPENHA PARA ATENDER AO PAGAMENTO DE ALUGUEL DE UM IMOVEL PERTENCENTE A MANOEL MARQUES PEREIRA, ALUGADO A BENEFICIARIA THAUANA INGRYD CATATANDUBA DA SILVA RODRIGUES, QUE ENCONTRA-SE EM SITUAÃÃO DE VUNERABILIDADE SOCIAL.   ;15001000 - Recursos Livres (OrdinÃ¡rio);0 - OrdinÃ¡rio;2 - Prefeitura Municipal de Teixeira;2120 - Fundo Municipal de AÃ§Ã£o e PromoÃ§Ã£o Social;8 - AssistÃªncia Social;244 - AssistÃªncia ComunitÃ¡ria;1002 - PromoÃ§Ã£o social Ã  famÃ­lia, Ã  crianÃ§a, aos adolescentes e Ã  populaÃ§Ã£o idosa;2047 - ManutenÃ§Ã£o de  BenefÃ­cios  Eventuais;3 - Despesas Correntes;3 - Outras Despesas Correntes;90 - AplicaÃ§Ãµes Diretas;32 - Material, Bem Ou ServiÃ§o Para DistribuiÃ§Ã£o Gratuita;80.000,00;200,00;200,00;200,00;;0,00;09/01/2024;09/01/2024;\n",
      "Linha 10: DL;40;09/01/2024;MARIA ELISIANE DE ALMEIDA;***.165.400-**;NÃO;;VALOR QUE SE EMPENHA PARA ATENDER AO PAGAMENTO DE AJUDA FINANCCEIRA PARA COMPRA DE GENEROS ALIMENTICIOS, DESTINADA A MARIA ELISIANE DE ALMEIDA, QUE ENCONTRA-SE EM SITUAÃÃO DE VULNERABILIDADE SOCIAL   ;15001000 - Recursos Livres (OrdinÃ¡rio);0 - OrdinÃ¡rio;2 - Prefeitura Municipal de Teixeira;2120 - Fundo Municipal de AÃ§Ã£o e PromoÃ§Ã£o Social;8 - AssistÃªncia Social;244 - AssistÃªncia ComunitÃ¡ria;1002 - PromoÃ§Ã£o social Ã  famÃ­lia, Ã  crianÃ§a, aos adolescentes e Ã  populaÃ§Ã£o idosa;2047 - ManutenÃ§Ã£o de  BenefÃ­cios  Eventuais;3 - Despesas Correntes;3 - Outras Despesas Correntes;90 - AplicaÃ§Ãµes Diretas;48 - Outros AuxÃ­lios Financeiros A Pessoas FÃ­sicas;140.000,00;300,00;300,00;300,00;;0,00;09/01/2024;09/01/2024;\n",
      "Linha 11: DL;41;09/01/2024;MATUZALEM DE FIGUEIREDO RAMALHO;***.364.415-**;NÃO;;VALOR QUE SE EMPENHA PARA ATENDER AO PAGAMENTO DE ALUGUEL DE UM IMOVEL PERTENCENTE A MATUZALEM FIGUEIREDO RAMALHO, ALUGADO A BENEFICIARIA PATRICIA DOS SANTOS GUEDES, QUE ENCONTRA-SE EM SITUAÃÃO DE VUNERABILIDADE SOCIAL.   ;15001000 - Recursos Livres (OrdinÃ¡rio);0 - OrdinÃ¡rio;2 - Prefeitura Municipal de Teixeira;2120 - Fundo Municipal de AÃ§Ã£o e PromoÃ§Ã£o Social;8 - AssistÃªncia Social;244 - AssistÃªncia ComunitÃ¡ria;1002 - PromoÃ§Ã£o social Ã  famÃ­lia, Ã  crianÃ§a, aos adolescentes e Ã  populaÃ§Ã£o idosa;2047 - ManutenÃ§Ã£o de  BenefÃ­cios  Eventuais;3 - Despesas Correntes;3 - Outras Despesas Correntes;90 - AplicaÃ§Ãµes Diretas;32 - Material, Bem Ou ServiÃ§o Para DistribuiÃ§Ã£o Gratuita;80.000,00;150,00;150,00;150,00;;0,00;09/01/2024;09/01/2024;\n"
     ]
    }
   ],
   "source": [
    "with open('consultaDespesa_Prefeitura_Teixeira_2024.csv', 'r', encoding='latin1') as f:\n",
    "    for i, line in enumerate(f):\n",
    "        print(f\"Linha {i + 1}: {line.strip()}\")\n",
    "        if i == 10:  # Mostra apenas as primeiras 10 linhas\n",
    "            break"
   ]
  },
  {
   "cell_type": "code",
   "execution_count": null,
   "id": "934fdb1b-7ca0-429c-9410-30647e4e9f06",
   "metadata": {},
   "outputs": [],
   "source": []
  },
  {
   "cell_type": "code",
   "execution_count": null,
   "id": "38e14f81-4600-4cbe-a7de-3bb5c2d5d194",
   "metadata": {},
   "outputs": [],
   "source": []
  },
  {
   "cell_type": "code",
   "execution_count": 18,
   "id": "65197c0c-b010-4a19-b8a3-304f7c90d372",
   "metadata": {},
   "outputs": [
    {
     "name": "stdout",
     "output_type": "stream",
     "text": [
      "Erro ao processar o arquivo consultaDespesa_Prefeitura _Teixeira_2014.csv: Error tokenizing data. C error: Expected 28 fields in line 4, saw 29\n",
      "\n",
      "Erro ao processar o arquivo consultaDespesa_Prefeitura _Teixeira_2015.csv: Error tokenizing data. C error: Expected 28 fields in line 4, saw 29\n",
      "\n",
      "Erro ao processar o arquivo consultaDespesa_Prefeitura _Teixeira_2016.csv: Error tokenizing data. C error: Expected 28 fields in line 4, saw 29\n",
      "\n",
      "Erro ao processar o arquivo consultaDespesa_Prefeitura _Teixeira_2017.csv: Error tokenizing data. C error: Expected 28 fields in line 4, saw 29\n",
      "\n",
      "Erro ao processar o arquivo consultaDespesa_Prefeitura _Teixeira_2018.csv: Error tokenizing data. C error: Expected 28 fields in line 4, saw 29\n",
      "\n",
      "Erro ao processar o arquivo consultaDespesa_Prefeitura _Teixeira_2019.csv: Error tokenizing data. C error: Expected 28 fields in line 4, saw 29\n",
      "\n",
      "Erro ao processar o arquivo consultaDespesa_Prefeitura _Teixeira_2020.csv: Error tokenizing data. C error: Expected 28 fields in line 4, saw 29\n",
      "\n",
      "Erro ao processar o arquivo consultaDespesa_Prefeitura _Teixeira_2021.csv: Error tokenizing data. C error: Expected 28 fields in line 4, saw 29\n",
      "\n",
      "Erro ao processar o arquivo consultaDespesa_Prefeitura _Teixeira_2022.csv: Error tokenizing data. C error: Expected 28 fields in line 4, saw 29\n",
      "\n",
      "Erro ao processar o arquivo consultaDespesa_Prefeitura _Teixeira_2023.csv: Error tokenizing data. C error: Expected 28 fields in line 4, saw 29\n",
      "\n",
      "Erro ao processar o arquivo consultaDespesa_Prefeitura_Teixeira_2024.csv: Error tokenizing data. C error: Expected 28 fields in line 4, saw 29\n",
      "\n"
     ]
    },
    {
     "ename": "ValueError",
     "evalue": "No objects to concatenate",
     "output_type": "error",
     "traceback": [
      "\u001b[1;31m---------------------------------------------------------------------------\u001b[0m",
      "\u001b[1;31mValueError\u001b[0m                                Traceback (most recent call last)",
      "Cell \u001b[1;32mIn[18], line 23\u001b[0m\n\u001b[0;32m     20\u001b[0m         \u001b[38;5;28mprint\u001b[39m(\u001b[38;5;124mf\u001b[39m\u001b[38;5;124m\"\u001b[39m\u001b[38;5;124mErro ao processar o arquivo \u001b[39m\u001b[38;5;132;01m{\u001b[39;00marquivo\u001b[38;5;132;01m}\u001b[39;00m\u001b[38;5;124m: \u001b[39m\u001b[38;5;132;01m{\u001b[39;00me\u001b[38;5;132;01m}\u001b[39;00m\u001b[38;5;124m\"\u001b[39m)\n\u001b[0;32m     22\u001b[0m \u001b[38;5;66;03m# Combina todos os DataFrames em um único\u001b[39;00m\n\u001b[1;32m---> 23\u001b[0m df_combinado \u001b[38;5;241m=\u001b[39m \u001b[43mpd\u001b[49m\u001b[38;5;241;43m.\u001b[39;49m\u001b[43mconcat\u001b[49m\u001b[43m(\u001b[49m\u001b[43mdataframes\u001b[49m\u001b[43m,\u001b[49m\u001b[43m \u001b[49m\u001b[43mignore_index\u001b[49m\u001b[38;5;241;43m=\u001b[39;49m\u001b[38;5;28;43;01mTrue\u001b[39;49;00m\u001b[43m)\u001b[49m\n\u001b[0;32m     25\u001b[0m \u001b[38;5;66;03m# Salva o resultado em um único arquivo CSV\u001b[39;00m\n\u001b[0;32m     26\u001b[0m df_combinado\u001b[38;5;241m.\u001b[39mto_csv(\u001b[38;5;124m'\u001b[39m\u001b[38;5;124marquivo_combinado.csv\u001b[39m\u001b[38;5;124m'\u001b[39m, sep\u001b[38;5;241m=\u001b[39m\u001b[38;5;124m'\u001b[39m\u001b[38;5;124m;\u001b[39m\u001b[38;5;124m'\u001b[39m, index\u001b[38;5;241m=\u001b[39m\u001b[38;5;28;01mFalse\u001b[39;00m)\n",
      "File \u001b[1;32m~\\anaconda3\\Lib\\site-packages\\pandas\\core\\reshape\\concat.py:372\u001b[0m, in \u001b[0;36mconcat\u001b[1;34m(objs, axis, join, ignore_index, keys, levels, names, verify_integrity, sort, copy)\u001b[0m\n\u001b[0;32m    369\u001b[0m \u001b[38;5;28;01melif\u001b[39;00m copy \u001b[38;5;129;01mand\u001b[39;00m using_copy_on_write():\n\u001b[0;32m    370\u001b[0m     copy \u001b[38;5;241m=\u001b[39m \u001b[38;5;28;01mFalse\u001b[39;00m\n\u001b[1;32m--> 372\u001b[0m op \u001b[38;5;241m=\u001b[39m \u001b[43m_Concatenator\u001b[49m\u001b[43m(\u001b[49m\n\u001b[0;32m    373\u001b[0m \u001b[43m    \u001b[49m\u001b[43mobjs\u001b[49m\u001b[43m,\u001b[49m\n\u001b[0;32m    374\u001b[0m \u001b[43m    \u001b[49m\u001b[43maxis\u001b[49m\u001b[38;5;241;43m=\u001b[39;49m\u001b[43maxis\u001b[49m\u001b[43m,\u001b[49m\n\u001b[0;32m    375\u001b[0m \u001b[43m    \u001b[49m\u001b[43mignore_index\u001b[49m\u001b[38;5;241;43m=\u001b[39;49m\u001b[43mignore_index\u001b[49m\u001b[43m,\u001b[49m\n\u001b[0;32m    376\u001b[0m \u001b[43m    \u001b[49m\u001b[43mjoin\u001b[49m\u001b[38;5;241;43m=\u001b[39;49m\u001b[43mjoin\u001b[49m\u001b[43m,\u001b[49m\n\u001b[0;32m    377\u001b[0m \u001b[43m    \u001b[49m\u001b[43mkeys\u001b[49m\u001b[38;5;241;43m=\u001b[39;49m\u001b[43mkeys\u001b[49m\u001b[43m,\u001b[49m\n\u001b[0;32m    378\u001b[0m \u001b[43m    \u001b[49m\u001b[43mlevels\u001b[49m\u001b[38;5;241;43m=\u001b[39;49m\u001b[43mlevels\u001b[49m\u001b[43m,\u001b[49m\n\u001b[0;32m    379\u001b[0m \u001b[43m    \u001b[49m\u001b[43mnames\u001b[49m\u001b[38;5;241;43m=\u001b[39;49m\u001b[43mnames\u001b[49m\u001b[43m,\u001b[49m\n\u001b[0;32m    380\u001b[0m \u001b[43m    \u001b[49m\u001b[43mverify_integrity\u001b[49m\u001b[38;5;241;43m=\u001b[39;49m\u001b[43mverify_integrity\u001b[49m\u001b[43m,\u001b[49m\n\u001b[0;32m    381\u001b[0m \u001b[43m    \u001b[49m\u001b[43mcopy\u001b[49m\u001b[38;5;241;43m=\u001b[39;49m\u001b[43mcopy\u001b[49m\u001b[43m,\u001b[49m\n\u001b[0;32m    382\u001b[0m \u001b[43m    \u001b[49m\u001b[43msort\u001b[49m\u001b[38;5;241;43m=\u001b[39;49m\u001b[43msort\u001b[49m\u001b[43m,\u001b[49m\n\u001b[0;32m    383\u001b[0m \u001b[43m\u001b[49m\u001b[43m)\u001b[49m\n\u001b[0;32m    385\u001b[0m \u001b[38;5;28;01mreturn\u001b[39;00m op\u001b[38;5;241m.\u001b[39mget_result()\n",
      "File \u001b[1;32m~\\anaconda3\\Lib\\site-packages\\pandas\\core\\reshape\\concat.py:429\u001b[0m, in \u001b[0;36m_Concatenator.__init__\u001b[1;34m(self, objs, axis, join, keys, levels, names, ignore_index, verify_integrity, copy, sort)\u001b[0m\n\u001b[0;32m    426\u001b[0m     objs \u001b[38;5;241m=\u001b[39m \u001b[38;5;28mlist\u001b[39m(objs)\n\u001b[0;32m    428\u001b[0m \u001b[38;5;28;01mif\u001b[39;00m \u001b[38;5;28mlen\u001b[39m(objs) \u001b[38;5;241m==\u001b[39m \u001b[38;5;241m0\u001b[39m:\n\u001b[1;32m--> 429\u001b[0m     \u001b[38;5;28;01mraise\u001b[39;00m \u001b[38;5;167;01mValueError\u001b[39;00m(\u001b[38;5;124m\"\u001b[39m\u001b[38;5;124mNo objects to concatenate\u001b[39m\u001b[38;5;124m\"\u001b[39m)\n\u001b[0;32m    431\u001b[0m \u001b[38;5;28;01mif\u001b[39;00m keys \u001b[38;5;129;01mis\u001b[39;00m \u001b[38;5;28;01mNone\u001b[39;00m:\n\u001b[0;32m    432\u001b[0m     objs \u001b[38;5;241m=\u001b[39m \u001b[38;5;28mlist\u001b[39m(com\u001b[38;5;241m.\u001b[39mnot_none(\u001b[38;5;241m*\u001b[39mobjs))\n",
      "\u001b[1;31mValueError\u001b[0m: No objects to concatenate"
     ]
    }
   ],
   "source": [
    "import os\n",
    "import pandas as pd\n",
    "\n",
    "# Diretório onde estão os arquivos CSV\n",
    "diretorio = r'C:\\Users\\nunes\\OneDrive\\Área de Trabalho\\Analise teixeira pb'\n",
    "\n",
    "# Lista todos os arquivos CSV no diretório\n",
    "arquivos_csv = [f for f in os.listdir(diretorio) if f.endswith('.csv')]\n",
    "\n",
    "# Lista para armazenar os DataFrames\n",
    "dataframes = []\n",
    "\n",
    "# Lê cada arquivo CSV\n",
    "for arquivo in arquivos_csv:\n",
    "    caminho_completo = os.path.join(diretorio, arquivo)\n",
    "    try:\n",
    "        df = pd.read_csv(caminho_completo, sep=';')  # Define o separador como ';'\n",
    "        dataframes.append(df)\n",
    "    except Exception as e:\n",
    "        print(f\"Erro ao processar o arquivo {arquivo}: {e}\")\n",
    "\n",
    "# Combina todos os DataFrames em um único\n",
    "df_combinado = pd.concat(dataframes, ignore_index=True)\n",
    "\n",
    "# Salva o resultado em um único arquivo CSV\n",
    "df_combinado.to_csv('arquivo_combinado.csv', sep=';', index=False)\n",
    "\n",
    "print(\"Arquivos combinados com sucesso!\")\n",
    "df_primeiro =  pd.read_csv('consultaDespesa_Prefeitura_Teixeira_2024.csv')"
   ]
  },
  {
   "cell_type": "code",
   "execution_count": 16,
   "id": "6aebdf9d-06e3-42fd-a9ba-66b035080bc2",
   "metadata": {},
   "outputs": [
    {
     "name": "stdout",
     "output_type": "stream",
     "text": [
      "O arquivo possui 29 colunas na linha 4.\n"
     ]
    }
   ],
   "source": [
    "with open('consultaDespesa_Prefeitura_Teixeira_2024.csv', 'r', encoding='utf-8') as f:\n",
    "    linhas = f.readlines()\n",
    "\n",
    "# Contar o número de colunas na primeira linha\n",
    "num_colunas = len(linhas[4].split(';'))  # Assume que a 4ª linha contém os dados\n",
    "print(f\"O arquivo possui {num_colunas} colunas na linha 5.\")"
   ]
  },
  {
   "cell_type": "code",
   "execution_count": 24,
   "id": "1177db44-82c5-46a4-bdd8-621f580b6cf0",
   "metadata": {},
   "outputs": [
    {
     "name": "stdout",
     "output_type": "stream",
     "text": [
      "As colunas identificadas na linha 4 são:\n",
      "1: DL\n",
      "2: 41\n",
      "3: 09/01/2024\n",
      "4: MATUZALEM DE FIGUEIREDO RAMALHO\n",
      "5: ***.364.415-**\n",
      "6: NÃO\n",
      "7: \n",
      "8: VALOR QUE SE EMPENHA PARA ATENDER AO PAGAMENTO DE ALUGUEL DE UM IMOVEL PERTENCENTE A MATUZALEM FIGUEIREDO RAMALHO, ALUGADO A BENEFICIARIA PATRICIA DOS SANTOS GUEDES, QUE ENCONTRA-SE EM SITUAÇÃO DE VUNERABILIDADE SOCIAL.   \n",
      "9: 15001000 - Recursos Livres (Ordinário)\n",
      "10: 0 - Ordinário\n",
      "11: 2 - Prefeitura Municipal de Teixeira\n",
      "12: 2120 - Fundo Municipal de Ação e Promoção Social\n",
      "13: 8 - Assistência Social\n",
      "14: 244 - Assistência Comunitária\n",
      "15: 1002 - Promoção social à família, à criança, aos adolescentes e à população idosa\n",
      "16: 2047 - Manutenção de  Benefícios  Eventuais\n",
      "17: 3 - Despesas Correntes\n",
      "18: 3 - Outras Despesas Correntes\n",
      "19: 90 - Aplicações Diretas\n",
      "20: 32 - Material, Bem Ou Serviço Para Distribuição Gratuita\n",
      "21: 80.000,00\n",
      "22: 150,00\n",
      "23: 150,00\n",
      "24: 150,00\n",
      "25: \n",
      "26: 0,00\n",
      "27: 09/01/2024\n",
      "28: 09/01/2024\n",
      "29: \n",
      "\n"
     ]
    }
   ],
   "source": [
    "colunas = linhas[10].split(';')\n",
    "print(f\"As colunas identificadas na linha 4 são:\")\n",
    "for i, coluna in enumerate(colunas):\n",
    "    print(f\"{i + 1}: {coluna}\")"
   ]
  },
  {
   "cell_type": "code",
   "execution_count": 28,
   "id": "014c100a-56a3-4635-bdcb-2cc32921eb1e",
   "metadata": {},
   "outputs": [
    {
     "ename": "ParserError",
     "evalue": "Error tokenizing data. C error: Expected 30 fields in line 1528, saw 31\n",
     "output_type": "error",
     "traceback": [
      "\u001b[1;31m---------------------------------------------------------------------------\u001b[0m",
      "\u001b[1;31mParserError\u001b[0m                               Traceback (most recent call last)",
      "Cell \u001b[1;32mIn[28], line 1\u001b[0m\n\u001b[1;32m----> 1\u001b[0m df \u001b[38;5;241m=\u001b[39m \u001b[43mpd\u001b[49m\u001b[38;5;241;43m.\u001b[39;49m\u001b[43mread_csv\u001b[49m\u001b[43m(\u001b[49m\u001b[38;5;124;43m'\u001b[39;49m\u001b[38;5;124;43mconsultaDespesa_Prefeitura_Teixeira_2024.csv\u001b[39;49m\u001b[38;5;124;43m'\u001b[39;49m\u001b[43m,\u001b[49m\u001b[43m \u001b[49m\u001b[43msep\u001b[49m\u001b[38;5;241;43m=\u001b[39;49m\u001b[38;5;124;43m'\u001b[39;49m\u001b[38;5;124;43m;\u001b[39;49m\u001b[38;5;124;43m'\u001b[39;49m\u001b[43m,\u001b[49m\u001b[43m \u001b[49m\u001b[43mencoding\u001b[49m\u001b[38;5;241;43m=\u001b[39;49m\u001b[38;5;124;43m'\u001b[39;49m\u001b[38;5;124;43mlatin1\u001b[39;49m\u001b[38;5;124;43m'\u001b[39;49m\u001b[43m,\u001b[49m\u001b[43m)\u001b[49m\n",
      "File \u001b[1;32m~\\anaconda3\\Lib\\site-packages\\pandas\\io\\parsers\\readers.py:912\u001b[0m, in \u001b[0;36mread_csv\u001b[1;34m(filepath_or_buffer, sep, delimiter, header, names, index_col, usecols, dtype, engine, converters, true_values, false_values, skipinitialspace, skiprows, skipfooter, nrows, na_values, keep_default_na, na_filter, verbose, skip_blank_lines, parse_dates, infer_datetime_format, keep_date_col, date_parser, date_format, dayfirst, cache_dates, iterator, chunksize, compression, thousands, decimal, lineterminator, quotechar, quoting, doublequote, escapechar, comment, encoding, encoding_errors, dialect, on_bad_lines, delim_whitespace, low_memory, memory_map, float_precision, storage_options, dtype_backend)\u001b[0m\n\u001b[0;32m    899\u001b[0m kwds_defaults \u001b[38;5;241m=\u001b[39m _refine_defaults_read(\n\u001b[0;32m    900\u001b[0m     dialect,\n\u001b[0;32m    901\u001b[0m     delimiter,\n\u001b[1;32m   (...)\u001b[0m\n\u001b[0;32m    908\u001b[0m     dtype_backend\u001b[38;5;241m=\u001b[39mdtype_backend,\n\u001b[0;32m    909\u001b[0m )\n\u001b[0;32m    910\u001b[0m kwds\u001b[38;5;241m.\u001b[39mupdate(kwds_defaults)\n\u001b[1;32m--> 912\u001b[0m \u001b[38;5;28;01mreturn\u001b[39;00m \u001b[43m_read\u001b[49m\u001b[43m(\u001b[49m\u001b[43mfilepath_or_buffer\u001b[49m\u001b[43m,\u001b[49m\u001b[43m \u001b[49m\u001b[43mkwds\u001b[49m\u001b[43m)\u001b[49m\n",
      "File \u001b[1;32m~\\anaconda3\\Lib\\site-packages\\pandas\\io\\parsers\\readers.py:583\u001b[0m, in \u001b[0;36m_read\u001b[1;34m(filepath_or_buffer, kwds)\u001b[0m\n\u001b[0;32m    580\u001b[0m     \u001b[38;5;28;01mreturn\u001b[39;00m parser\n\u001b[0;32m    582\u001b[0m \u001b[38;5;28;01mwith\u001b[39;00m parser:\n\u001b[1;32m--> 583\u001b[0m     \u001b[38;5;28;01mreturn\u001b[39;00m \u001b[43mparser\u001b[49m\u001b[38;5;241;43m.\u001b[39;49m\u001b[43mread\u001b[49m\u001b[43m(\u001b[49m\u001b[43mnrows\u001b[49m\u001b[43m)\u001b[49m\n",
      "File \u001b[1;32m~\\anaconda3\\Lib\\site-packages\\pandas\\io\\parsers\\readers.py:1704\u001b[0m, in \u001b[0;36mTextFileReader.read\u001b[1;34m(self, nrows)\u001b[0m\n\u001b[0;32m   1697\u001b[0m nrows \u001b[38;5;241m=\u001b[39m validate_integer(\u001b[38;5;124m\"\u001b[39m\u001b[38;5;124mnrows\u001b[39m\u001b[38;5;124m\"\u001b[39m, nrows)\n\u001b[0;32m   1698\u001b[0m \u001b[38;5;28;01mtry\u001b[39;00m:\n\u001b[0;32m   1699\u001b[0m     \u001b[38;5;66;03m# error: \"ParserBase\" has no attribute \"read\"\u001b[39;00m\n\u001b[0;32m   1700\u001b[0m     (\n\u001b[0;32m   1701\u001b[0m         index,\n\u001b[0;32m   1702\u001b[0m         columns,\n\u001b[0;32m   1703\u001b[0m         col_dict,\n\u001b[1;32m-> 1704\u001b[0m     ) \u001b[38;5;241m=\u001b[39m \u001b[38;5;28;43mself\u001b[39;49m\u001b[38;5;241;43m.\u001b[39;49m\u001b[43m_engine\u001b[49m\u001b[38;5;241;43m.\u001b[39;49m\u001b[43mread\u001b[49m\u001b[43m(\u001b[49m\u001b[43m  \u001b[49m\u001b[38;5;66;43;03m# type: ignore[attr-defined]\u001b[39;49;00m\n\u001b[0;32m   1705\u001b[0m \u001b[43m        \u001b[49m\u001b[43mnrows\u001b[49m\n\u001b[0;32m   1706\u001b[0m \u001b[43m    \u001b[49m\u001b[43m)\u001b[49m\n\u001b[0;32m   1707\u001b[0m \u001b[38;5;28;01mexcept\u001b[39;00m \u001b[38;5;167;01mException\u001b[39;00m:\n\u001b[0;32m   1708\u001b[0m     \u001b[38;5;28mself\u001b[39m\u001b[38;5;241m.\u001b[39mclose()\n",
      "File \u001b[1;32m~\\anaconda3\\Lib\\site-packages\\pandas\\io\\parsers\\c_parser_wrapper.py:234\u001b[0m, in \u001b[0;36mCParserWrapper.read\u001b[1;34m(self, nrows)\u001b[0m\n\u001b[0;32m    232\u001b[0m \u001b[38;5;28;01mtry\u001b[39;00m:\n\u001b[0;32m    233\u001b[0m     \u001b[38;5;28;01mif\u001b[39;00m \u001b[38;5;28mself\u001b[39m\u001b[38;5;241m.\u001b[39mlow_memory:\n\u001b[1;32m--> 234\u001b[0m         chunks \u001b[38;5;241m=\u001b[39m \u001b[38;5;28;43mself\u001b[39;49m\u001b[38;5;241;43m.\u001b[39;49m\u001b[43m_reader\u001b[49m\u001b[38;5;241;43m.\u001b[39;49m\u001b[43mread_low_memory\u001b[49m\u001b[43m(\u001b[49m\u001b[43mnrows\u001b[49m\u001b[43m)\u001b[49m\n\u001b[0;32m    235\u001b[0m         \u001b[38;5;66;03m# destructive to chunks\u001b[39;00m\n\u001b[0;32m    236\u001b[0m         data \u001b[38;5;241m=\u001b[39m _concatenate_chunks(chunks)\n",
      "File \u001b[1;32m~\\anaconda3\\Lib\\site-packages\\pandas\\_libs\\parsers.pyx:814\u001b[0m, in \u001b[0;36mpandas._libs.parsers.TextReader.read_low_memory\u001b[1;34m()\u001b[0m\n",
      "File \u001b[1;32m~\\anaconda3\\Lib\\site-packages\\pandas\\_libs\\parsers.pyx:875\u001b[0m, in \u001b[0;36mpandas._libs.parsers.TextReader._read_rows\u001b[1;34m()\u001b[0m\n",
      "File \u001b[1;32m~\\anaconda3\\Lib\\site-packages\\pandas\\_libs\\parsers.pyx:850\u001b[0m, in \u001b[0;36mpandas._libs.parsers.TextReader._tokenize_rows\u001b[1;34m()\u001b[0m\n",
      "File \u001b[1;32m~\\anaconda3\\Lib\\site-packages\\pandas\\_libs\\parsers.pyx:861\u001b[0m, in \u001b[0;36mpandas._libs.parsers.TextReader._check_tokenize_status\u001b[1;34m()\u001b[0m\n",
      "File \u001b[1;32m~\\anaconda3\\Lib\\site-packages\\pandas\\_libs\\parsers.pyx:2029\u001b[0m, in \u001b[0;36mpandas._libs.parsers.raise_parser_error\u001b[1;34m()\u001b[0m\n",
      "\u001b[1;31mParserError\u001b[0m: Error tokenizing data. C error: Expected 30 fields in line 1528, saw 31\n"
     ]
    }
   ],
   "source": [
    "df = pd.read_csv('consultaDespesa_Prefeitura_Teixeira_2024.csv', sep=';', encoding='latin1',)"
   ]
  },
  {
   "cell_type": "code",
   "execution_count": null,
   "id": "604785db-a0be-4324-9222-0dbc64e8b5ae",
   "metadata": {},
   "outputs": [],
   "source": []
  }
 ],
 "metadata": {
  "kernelspec": {
   "display_name": "Python 3 (ipykernel)",
   "language": "python",
   "name": "python3"
  },
  "language_info": {
   "codemirror_mode": {
    "name": "ipython",
    "version": 3
   },
   "file_extension": ".py",
   "mimetype": "text/x-python",
   "name": "python",
   "nbconvert_exporter": "python",
   "pygments_lexer": "ipython3",
   "version": "3.11.5"
  }
 },
 "nbformat": 4,
 "nbformat_minor": 5
}
